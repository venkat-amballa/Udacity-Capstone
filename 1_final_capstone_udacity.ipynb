{
  "nbformat": 4,
  "nbformat_minor": 0,
  "metadata": {
    "colab": {
      "name": "1_final_capstone_udacity.ipynb",
      "version": "0.3.2",
      "provenance": [],
      "collapsed_sections": [],
      "include_colab_link": true
    },
    "kernelspec": {
      "display_name": "Python 3",
      "language": "python",
      "name": "python3"
    }
  },
  "cells": [
    {
      "cell_type": "markdown",
      "metadata": {
        "id": "view-in-github",
        "colab_type": "text"
      },
      "source": [
        "<a href=\"https://colab.research.google.com/github/venkat-amballa/Udacity-Capstone/blob/master/1_final_capstone_udacity.ipynb\" target=\"_parent\"><img src=\"https://colab.research.google.com/assets/colab-badge.svg\" alt=\"Open In Colab\"/></a>"
      ]
    },
    {
      "metadata": {
        "colab_type": "text",
        "id": "q3c2DWntN26e"
      },
      "cell_type": "markdown",
      "source": [
        "Machine Learning Engineer Nanodegree\n",
        "\n",
        "\n",
        "Capstone Proposal\n",
        "Amballa Venkata Mutyalu Naidu\n",
        "March 20, 2019\n",
        "\n",
        " Hand Postures Detection\n",
        "\n",
        "1.Domain Background\n",
        "\n",
        "The dataset created is a part of research in which the researchers are trying to introduce a new parameterizable metric that measures the distance between unordered sets of different sizes with non-negative, finite measure.\n",
        "\n",
        "Source:\n",
        "\n",
        "[1] A. Gardner, R. R. Selmic, J. Kanno \n",
        "Louisiana Tech University \n",
        "abg010 '@' latech.edu, rselmic '@' latech.edu, jkanno '@' latech.edu \n",
        "\n",
        "[2] C. A. Duncan \n",
        "Quinnipiac University \n",
        "christian.duncan '@' quinnipiac.edu\n",
        "\n",
        "Relevant Papers:\n",
        "\n",
        " [1] A. Gardner, J. Kanno, C. A. Duncan, and R. Selmic. 'Measuring distance between unordered sets of different sizes,' in 2014 IEEE Conference on Computer Vision and Pattern Recognition(CVPR), June 2014, pp. 137-143. \n",
        "\n",
        " [2] A. Gardner, C. A. Duncan, J. Kanno, and R. Selmic. '3D hand posture recognition from small unlabeled point sets,' in 2014 IEEE International Conference on Systems, Man and Cybernetics (SMC), Oct 2014, pp. 164-169.\n",
        "\n",
        "2.  Problem Statement\n",
        "This is an attempt to solve the problem, In which A Vicon motion capture camera system was used to record 12 users performing 5 hand postures with markers attached to a left-handed glove. \n",
        "\n",
        "3. Datasets and Inputs\n",
        "\n",
        "Dataset details:\n",
        "The dataset is comprised of 5 static gestures (hand poses) captured for 12 users using a Vicon motion capture camera system and a glove with attached infrared markers on certain joints. A rigid pattern on the back of the glove was used to establish a translation and rotation invariant local coordinate system. The five gestures captured were fist, pointing with one finger, pointing with two fingers, stop (handflat), and grab (fingers curled). Several hundred instances of each gesture were captured as part of streams. where the user held the gesture for a short time. Instances were preprocessed by removing all markers more than 200mm from the origin and transforming to local coordinates.\n",
        "\n",
        "The markers on the back of the glove was used to establish a local coordinate system for the hand, and 11 other markers were attached to the thumb and fingers of the glove. 3 markers were attached to the thumb with one above the thumbnail and the other two on the knuckles. 2 markers were attached to each finger with one above the fingernail and the other on the joint between the proximal and middle phalanx. \n",
        "\n",
        "The 11 markers not part of the rigid pattern were unlabeled; their positions were not explicitly tracked. Consequently, there is no a priori correspondence between the markers of two given records. In addition, due to the resolution of the capture volume and self-occlusion due to the orientation and configuration of the hand and fingers, many records have missing markers. Extraneous markers were also possible due to artifacts in the Vicon software's marker reconstruction/recording process and other objects in the capture volume. As a result, the number of visible markers in a record varied considerably. \n",
        "\n",
        "The idea is to use the dataset provided to classify the posture recognition based on the marker values given as columns.\n",
        "\n",
        "\n",
        "Inputs Information:\n",
        "\n",
        "Data is provided as a CSV file. A header provides the name of each attribute. An initial dummy record composed entirely of 0s should be ignored. A question mark '?' is used to indicate a missing value. A record corresponds to a single instant or frame as recorded by the camera system. \n",
        "\n",
        "'Class' - Integer. The class ID of the given record. Ranges from 1 to 5 with 1=Fist(with thumb out), 2=Stop(hand flat), 3=Point1(point with pointer finger), 4=Point2(point with pointer and middle fingers), 5=Grab(fingers curled as if to grab). \n",
        "'User' - Integer. The ID of the user that contributed the record. No meaning other than as an identifier. \n",
        "'Xi' - Real. The x-coordinate of the i-th unlabeled marker position. 'i' ranges from 0 to 11. \n",
        "'Yi' - Real. The y-coordinate of the i-th unlabeled marker position. 'i' ranges from 0 to 11. \n",
        "'Zi' - Real. The z-coordinate of the i-th unlabeled marker position. 'i' ranges from 0 to 11. \n",
        "\n",
        "Dataset Link: go to dataset\n",
        "\n",
        "4.Solution Statement\n",
        "\n",
        "Since, this dataset contains sensor information for each of the posture,\n",
        "we can classify the postures(lables) by using a Supervised/UnSupervised algorithm\n",
        "for classifying/ clustering the similar sensory data into clusters and later this can be used to generalize when new/unseen data is given.\n",
        "\n",
        "\n",
        "\n",
        "5.Benchmark Model\n",
        "\n",
        "For the Benchmark Model, we can use Logistic Regression to make the classification and we can measure the accuracy_score obtained for training and testing to compare with other models that had will be implemented.\n",
        "We can choose accuracy_score as a metric because our dataset is not biased by having more data from a single class. All the classes had an equal number of samples.\n",
        "This Benchmark model will help in comparing the new scores' obtained with other different models. \n",
        "\n",
        "6.Evaluation Metrics\n",
        "\n",
        "We can choose the best model based on the accuracy of each model by applying grid search on some supervised classification algoritms like KNeighborsClassifier, Random Forests, Decision trees and AdaBoostClassifier.\n",
        "\n",
        "We can use accuracy score as evaluation metric because, all the class labels have approximately equal number of data points. i.e, \n",
        "class  count\n",
        "1    16265\n",
        "2    14978\n",
        "3    16344\n",
        "4    14775\n",
        "5    15733\n",
        "\n",
        "So since our algorithm is not biased to predict one class better than other. We can use a simple metric as accuracy score to make evaluate its accuracy.\n",
        "\n",
        "7. Project Design\n",
        "\n",
        "The workflow i followed for developing the project:\n",
        "a. Preprocessing and Analysing the Dataset:\n",
        " The Dataset is collected from UCI ml repository, the shape of the dataset is (78095, 38). In which the first row is a dummy row and some unknown values are given with symbol - '?'. A columns named user which denotes that the samples are related to a particulat user can also be removed.\n",
        "\n",
        " For preprocessing the datset. We will remove columns with large number of unknowns and replace the remaining unknowns with the column mean values.\n",
        "\n",
        " We will later split the data into training samples(75% of dataset) and testing samples(25% of the dataset).\n",
        "\n",
        "b. Deciding the model:\n",
        "Here we will apply many supervised learning algorithms and decide which algorithm is best suited for our dataset.\n",
        "We can apply gridsearch on some chosen algorithms to decide the best parameters among many.\n",
        "\n",
        "c. Evaluating the model:\n",
        " Since, the dataset has approximately equal number of columns i.e,\n",
        "                   class  count\n",
        "1    16265\n",
        "2    14978\n",
        "3    16344\n",
        "4    14775\n",
        "5    15733\n",
        "The evaluation metric we can choose is accuracy. Because, our algorithm is not biased towards any particular class.\n",
        "\n"
      ]
    },
    {
      "metadata": {
        "colab_type": "text",
        "id": "RBYGXc4tN2ti"
      },
      "cell_type": "markdown",
      "source": [
        "# Report"
      ]
    },
    {
      "metadata": {
        "colab_type": "text",
        "id": "OGw-xFJeN2cI"
      },
      "cell_type": "markdown",
      "source": [
        "**Report**\n",
        "\n",
        "Machine Learning Engineer Nanodegree\n",
        "\n",
        "Capstone Proposal\n",
        "Amballa Venkata Mutyalu Naidu\n",
        "March 20, 2019\n",
        "\n",
        "Hand Postures Detection\n",
        "\n",
        "I. Definition:\n",
        "\n",
        "**Project Overview:**\n",
        "\n",
        " \n",
        " * The dataset created is a part of research in which the researchers are trying to introduce a new parameterizable metric that measures the distance between unordered sets of different sizes with non-negative, finite measure.\n",
        "\n",
        "\n",
        "* A Vicon motion capture camera system was used to record 12 users performing 5 hand postures with markers attached to a left-handed glove. \n",
        "\n",
        "* A rigid pattern of markers on the back of the glove was used to establish a local coordinate system for the hand, and 11 other markers were attached to the thumb and fingers of the glove. 3 markers were attached to the thumb with one above the thumbnail and the other two on the knuckles. 2 markers were attached to each finger with one above the fingernail and the other on the joint between the proximal and middle phalanx. \n",
        "\n",
        "* The 11 markers not part of the rigid pattern were unlabeled; their positions were not explicitly tracked. Consequently, there is no a priori correspondence between the markers of two given records. In addition, due to the resolution of the capture volume and self-occlusion due to the orientation and configuration of the hand and fingers, many records have missing markers. Extraneous markers were also possible due to artifacts in the Vicon software's marker reconstruction/recording process and other objects in the capture volume. As a result, the number of visible markers in a record varied considerably. \n",
        "\n",
        "* The data presented here is already partially preprocessed. First, all markers were transformed to the local coordinate system of the record containing them. Second, each transformed marker with a norm greater than 200 millimeters was pruned. Finally, any record that contained fewer than 3 markers was removed. The processed data has at most 12 markers per record and at least 3. For more information, see 'Attribute Information'. \n",
        "\n",
        "* Due to the manner in which data was captured, it is likely that for a given record and user there exists a near duplicate record originating from the same user. We recommend therefore to evaluate classification algorithms on a leave-one-user-out basis wherein each user is iteratively left out from training and used as a test set. One then tests the generalization of the algorithm to new users. A 'User' attribute is provided to accomodate this strategy. \n",
        "\n",
        "* This dataset may be used for a variety of tasks, the most obvious of which is posture recognition via classification. One may also attempt user identification. Alternatively, one may perform clustering (constrained or unconstrained) to discover marker distributions either as an attempt to predict marker identities or obtain statistical descriptions/visualizations of the postures. \n",
        "\n",
        "* In previous work, they randomly sampled without replacement a constant number (e.g. 75) of records per class per user in order to balance classes. \n",
        "\n",
        "**Problem Statement:**\n",
        "\n",
        "* This data contains sensor data of hands with five differnent poses. Our aim is to look at the censor data and find which pose the user is making.\n",
        "\n",
        "\n",
        "**Metric**:\n",
        "\n",
        "* After observing the dataset we can find that each class labels have almost equal number of data points. So since data is available uniformally. We can choose a simple metric like accuracy score to calculate the performance of our algorithm.<img alt = \"accuracy score formula\" src='https://i.stack.imgur.com/JB7DX.gif '/> \n",
        "\n",
        "* Accuracy score will find the number of matches in predicted and actual values and divides it by number of total sampels.\n",
        "\n",
        "II. Analysis\n",
        "\n",
        "1. **Data Exploration:**\n",
        "* Data is provided as a CSV file. A header provides the name of each attribute. An initial dummy record composed entirely of 0s should be ignored. A question mark '?' is used to indicate a missing value. A record corresponds to a single instant or frame as recorded by the camera system.\n",
        "\n",
        "* `Class` - Integer. The class ID of the given record. Ranges from 1 to 5 with \n",
        "    `1=Fist`(with thumb out), \n",
        "    `2=Stop`(hand flat),\n",
        "    `3=Point1`(point with pointer finger),\n",
        "    `4=Point2`(point with pointer and middle fingers),\n",
        "    `5=Grab`(fingers curled as if to grab).\n",
        "    \n",
        "`User` - Integer. The ID of the user that contributed the record. No meaning other than as an identifier.\n",
        "\n",
        "`Xi` - Real. The x-coordinate of the i-th unlabeled marker position. 'i' ranges from 0 to 11.\n",
        "\n",
        "`Yi` - Real. The y-coordinate of the i-th unlabeled marker position. 'i' ranges from 0 to 11. \n",
        "`Zi` - Real. The z-coordinate of the i-th unlabeled marker position. 'i' ranges from 0 to 11.\n",
        "\n",
        "* These below results are the missing values(`?`) for i=10,11.\n",
        "X10 : 63343\n",
        "Y10 : 63343\n",
        "Z10 : 63343\n",
        "X11 : 78064\n",
        "Y11 : 78064\n",
        "Z11 : 78064\n",
        "* The shape of the dataset is **(78096, 38)**.\n",
        "Note : The first row of the dataset is a dummy row of 0's added at the beginning of the experiment.\n",
        "\n",
        "**Exploratory Visualization**:\n",
        "* \n",
        "\n",
        "**Algorithms and Techniques: **\n",
        "\n",
        "\n",
        "1.  Logistic Regression: \n",
        "      * Logistic Regression is a classification algorithm. It is used to predict a binary outcome (1 / 0, Yes / No, True / False) given a set of independent variables.\n",
        "      * To represent binary / categorical outcome, we use dummy variables. You can also think of logistic regression as a special case of linear regression when the outcome variable is categorical, where we are using log of odds as dependent variable. In simple words, it predicts the probability of occurrence of an event by fitting data to a logit function.\n",
        "`<img alt='logistic Regressor' src=\"http://www.saedsayad.com/images/LogReg_1.png\"/>\n",
        "`\n",
        "2. KNNeighbours:\n",
        "* K-nearest neighbor classifier is one of the introductory supervised classifier, which every data science learner should be aware of. Fix & Hodges proposed K-nearest neighbor classifier algorithm in the year of 1951 for performing pattern classification task.\n",
        "`\n",
        "<img alt='KNN image' src='https://proxy.duckduckgo.com/iu/?u=https%3A%2F%2Fwww.byclb.com%2FTR%2FTutorials%2Fneural_networks%2Fch11_1_dosyalar%2Fimage087.jpg&f=1'/>\n",
        "`\n",
        "**Benchmark**:\n",
        "\n",
        "* For the Benchmark Model, we can use Logistic Regression to make the classification and we can measure the accuracy_score obtained for training and testing to compare with other models that had will be implemented. \n",
        "\n",
        "* We can choose accuracy_score as a metric because our dataset is not biased by having more data from a single class. All the classes had an equal number of samples. This Benchmark model will help in comparing the new scores' obtained with other different models.\n",
        "\n",
        "\n",
        "\n",
        "III. Methodology:\n",
        "\n",
        "**Data Preprocessing**:\n",
        "* The Dataset is collected from UCI ml repository, the shape of the dataset is \n",
        " (78095, 38). In which the first row is a dummy row and some unknown values are given\n",
        "  with symbol - '?'. A columns named user which denotes that the samples are related\n",
        "   to a particulat user can also be removed.\n",
        "\n",
        "* For preprocessing the datset. We will remove columns with large number of unknowns \n",
        " and replace the remaining unknowns with the column mean values.\n",
        "\n",
        "* We will later split the data into training samples(75% of dataset) and testing \n",
        " samples(25% of the dataset).\n",
        " \n",
        "**Implementation**:\n",
        " * Our implementation is mainly divided into five steps:\n",
        " \n",
        "  1. Refining the dataset:\n",
        "      * We will make it into\n",
        "   2. Split into train and test: \n",
        "        \n",
        "      * In this we will be using `train_test_split` which is available in `sklearn.model_selection`.\n",
        "      * Where we will be dividing the data into train 75% and test splits of 25%\n",
        "\n",
        "   3. Benchmark model vs other models:\n",
        "       * We can choose our benchmark model as LogisticRegression. Because, it is simple and easy to implement.\n",
        "       * We will apply a series of classification algorithms like Logistic Regression, Decision Trees, Random forests etc.\n",
        "       * The next step is to find and compare accuraacy scores of all the models against the benchmark model.\n",
        "   4. Apply GridSearch Optimization:\n",
        "        * SInce we can observe that the model with accuracy is  Random Forests with accuracy score of 98.12%.\n",
        "        * We can select Random forest for further optimizing it by applying the same algorithm on a different set of parameters to find the one with the best accuracy.\n",
        "      \n",
        "   5. Display results\n",
        "     \n",
        "      * Here we will apply many supervised learning algorithms and decide which algorithm is best suited for our dataset.\n",
        "      * We can apply gridsearch on some chosen algorithms to decide the best parameters among many.\n",
        "**Refinement**\n",
        "  * The resulting parameters after optimization are:\n",
        "      { \n",
        "      'bootstrap': True, 'class_weight': None, 'criterion': 'gini', 'max_depth': None, 'max_features': 'sqrt' , 'max_leaf_nodes': None, 'min_impurity_decrease': 0.0, 'min_impurity_split': None, 'min_samples_leaf': 1, 'min_samples_split': 2, 'min_weight_fraction_leaf': 0.0, 'n_estimators': 700, 'n_jobs': None, 'oob_score': False, 'random_state': None, 'verbose': 0, 'warm_start': False\n",
        "      }"
      ]
    },
    {
      "metadata": {
        "colab_type": "text",
        "id": "_0XefjqYVes-"
      },
      "cell_type": "markdown",
      "source": [
        "# About Project"
      ]
    },
    {
      "metadata": {
        "id": "BCUVXATFEbBV",
        "colab_type": "text"
      },
      "cell_type": "markdown",
      "source": [
        "The dataset created is a part of research in which the researchers are trying to introduce a new parameterizable metric that measures the distance between unordered sets of different sizes with non-negative, finite measure.\n",
        "\n",
        "The dataset can be found at: [Hand Posture Dataset](https://archive.ics.uci.edu/ml/datasets/MoCap+Hand+Postures#) "
      ]
    },
    {
      "metadata": {
        "colab_type": "text",
        "id": "C_cAw2VAF87f"
      },
      "cell_type": "markdown",
      "source": [
        "In this project we will apply classification to detect **Hand Postures**, \n",
        "\n",
        "Since, this dataset contains sensor information for each of the posture,\n",
        "we can classify the postures(lables) by using a Supervised/UnSupervised algorithm\n",
        "for classifying/ clustering the similar sensory data into clusters and later this can be used to generalize when new/unseen data is given.\n"
      ]
    },
    {
      "metadata": {
        "id": "b4288TJMEbBZ",
        "colab_type": "text"
      },
      "cell_type": "markdown",
      "source": [
        "**These are the steps that we are going to follow in this project:**\n",
        "* We will load the Dataset and observe the dataset\n",
        "* Remove unnecessary columns, columns with large number of unknowns\n",
        "* Normalize the data, split the data into training, testing\n",
        "* Apply logistic regression and consider its score as a benchmark model.\n",
        "* Apply remaining supervised models and compare them with benchmark model.\n",
        "* Finally, optimize the model in the above with highest accuracy using GridSearchCV.\n"
      ]
    },
    {
      "metadata": {
        "colab_type": "text",
        "id": "8qzP4nHjXW8V"
      },
      "cell_type": "markdown",
      "source": [
        "# Loading Dataset "
      ]
    },
    {
      "metadata": {
        "colab_type": "code",
        "id": "9IfimCMiPlrz",
        "colab": {}
      },
      "cell_type": "code",
      "source": [
        "from sklearn.preprocessing import normalize\n",
        "from sklearn.model_selection import train_test_split\n",
        "\n",
        "import pandas as pd\n",
        "import numpy as np\n",
        "import matplotlib.pyplot as plt\n",
        "%matplotlib inline\n",
        "import seaborn as sn\n"
      ],
      "execution_count": 0,
      "outputs": []
    },
    {
      "metadata": {
        "colab_type": "code",
        "id": "kyPAY1ITfl4l",
        "colab": {}
      },
      "cell_type": "code",
      "source": [
        "postures = pd.read_csv('allUsers.csv',low_memory=False)"
      ],
      "execution_count": 0,
      "outputs": []
    },
    {
      "metadata": {
        "id": "8nZ2AuyiEbBp",
        "colab_type": "text"
      },
      "cell_type": "markdown",
      "source": [
        "## Dataset Information"
      ]
    },
    {
      "metadata": {
        "id": "GmSEte9gEbBr",
        "colab_type": "text"
      },
      "cell_type": "markdown",
      "source": [
        "\n",
        "Data is provided as a CSV file. A header provides the name of each attribute. An initial dummy record composed entirely of 0s should be ignored. A question mark '?' is used to indicate a missing value. A record corresponds to a single instant or frame as recorded by the camera system. \n",
        "\n",
        "`Class` - Integer. The class ID of the given record. Ranges from 1 to 5 with `1=Fist`(with thumb out), `2=Stop`(hand flat), `3=Point1`(point with pointer finger), `4=Point2`(point with pointer and middle fingers), `5=Grab`(fingers curled as if to grab). \n",
        "\n",
        "'`User`' - Integer. The ID of the user that contributed the record. No meaning other than as an identifier. \n",
        "\n",
        "'`Xi`' - Real. The x-coordinate of the i-th unlabeled marker position. 'i' ranges from 0 to 11. \n",
        "\n",
        "'`Yi`' - Real. The y-coordinate of the i-th unlabeled marker position. 'i' ranges from 0 to 11. \n",
        "\n",
        "'`Zi`' - Real. The z-coordinate of the i-th unlabeled marker position. 'i' ranges from 0 to 11. \n"
      ]
    },
    {
      "metadata": {
        "colab_type": "code",
        "id": "L6pzo4Eirf9v",
        "outputId": "647dfbcf-b6e3-44da-9846-4c527fc9ee1b",
        "colab": {
          "base_uri": "https://localhost:8080/",
          "height": 298
        }
      },
      "cell_type": "code",
      "source": [
        "# Understanding the dataset\n",
        "print(postures.shape)\n",
        "print(postures.head(5))"
      ],
      "execution_count": 0,
      "outputs": [
        {
          "output_type": "stream",
          "text": [
            "(78096, 38)\n",
            "   Class  User         X0         Y0         Z0         X1         Y1  \\\n",
            "0      0     0   0.000000   0.000000   0.000000   0.000000   0.000000   \n",
            "1      1     0  54.263880  71.466776 -64.807709  76.895635  42.462500   \n",
            "2      1     0  56.527558  72.266609 -61.935252  39.135978  82.538530   \n",
            "3      1     0  55.849928  72.469064 -62.562788  37.988804  82.631347   \n",
            "4      1     0  55.329647  71.707275 -63.688956  36.561863  81.868749   \n",
            "\n",
            "          Z1         X2         Y2 ...  Z8 X9 Y9 Z9 X10 Y10 Z10 X11 Y11 Z11  \n",
            "0   0.000000   0.000000   0.000000 ...   0  0  0  0   0   0   0   0   0   0  \n",
            "1 -72.780545  36.621229  81.680557 ...   ?  ?  ?  ?   ?   ?   ?   ?   ?   ?  \n",
            "2 -49.596509  79.223743  43.254091 ...   ?  ?  ?  ?   ?   ?   ?   ?   ?   ?  \n",
            "3 -50.606259  78.451526  43.567403 ...   ?  ?  ?  ?   ?   ?   ?   ?   ?   ?  \n",
            "4 -52.752784  86.320630  68.214645 ...   ?  ?  ?  ?   ?   ?   ?   ?   ?   ?  \n",
            "\n",
            "[5 rows x 38 columns]\n"
          ],
          "name": "stdout"
        }
      ]
    },
    {
      "metadata": {
        "id": "Le0F2ALpEbBy",
        "colab_type": "text"
      },
      "cell_type": "markdown",
      "source": [
        "---\n",
        "> Observe the dummy row in the dataset.i.e, the first row."
      ]
    },
    {
      "metadata": {
        "colab_type": "code",
        "id": "nIl2ypCVg7w6",
        "outputId": "29ba89e7-8b33-4731-8c73-ec5c79a4cce5",
        "colab": {
          "base_uri": "https://localhost:8080/",
          "height": 122
        }
      },
      "cell_type": "code",
      "source": [
        "# Remove the dummy row at top with zeros\n",
        "postures.drop([0], inplace=True)\n",
        "print(postures.shape)\n",
        "postures.columns"
      ],
      "execution_count": 0,
      "outputs": [
        {
          "output_type": "stream",
          "text": [
            "(78095, 38)\n"
          ],
          "name": "stdout"
        },
        {
          "output_type": "execute_result",
          "data": {
            "text/plain": [
              "Index(['Class', 'User', 'X0', 'Y0', 'Z0', 'X1', 'Y1', 'Z1', 'X2', 'Y2', 'Z2',\n",
              "       'X3', 'Y3', 'Z3', 'X4', 'Y4', 'Z4', 'X5', 'Y5', 'Z5', 'X6', 'Y6', 'Z6',\n",
              "       'X7', 'Y7', 'Z7', 'X8', 'Y8', 'Z8', 'X9', 'Y9', 'Z9', 'X10', 'Y10',\n",
              "       'Z10', 'X11', 'Y11', 'Z11'],\n",
              "      dtype='object')"
            ]
          },
          "metadata": {
            "tags": []
          },
          "execution_count": 7
        }
      ]
    },
    {
      "metadata": {
        "colab_type": "code",
        "id": "LGkBbfHiU6O6",
        "outputId": "d663d73f-94ef-412d-a50c-297ccb01c2ae",
        "colab": {
          "base_uri": "https://localhost:8080/",
          "height": 123
        }
      },
      "cell_type": "code",
      "source": [
        "# Numeber of samples for each label.\n",
        "values = pd.DataFrame(postures.Class.value_counts())\n",
        "values"
      ],
      "execution_count": 0,
      "outputs": [
        {
          "output_type": "execute_result",
          "data": {
            "text/html": [
              "<div>\n",
              "<style scoped>\n",
              "    .dataframe tbody tr th:only-of-type {\n",
              "        vertical-align: middle;\n",
              "    }\n",
              "\n",
              "    .dataframe tbody tr th {\n",
              "        vertical-align: top;\n",
              "    }\n",
              "\n",
              "    .dataframe thead th {\n",
              "        text-align: right;\n",
              "    }\n",
              "</style>\n",
              "<table border=\"1\" class=\"dataframe\">\n",
              "  <thead>\n",
              "    <tr style=\"text-align: right;\">\n",
              "      <th></th>\n",
              "      <th>Class</th>\n",
              "    </tr>\n",
              "  </thead>\n",
              "  <tbody>\n",
              "    <tr>\n",
              "      <th>3</th>\n",
              "      <td>16344</td>\n",
              "    </tr>\n",
              "    <tr>\n",
              "      <th>1</th>\n",
              "      <td>16265</td>\n",
              "    </tr>\n",
              "    <tr>\n",
              "      <th>5</th>\n",
              "      <td>15733</td>\n",
              "    </tr>\n",
              "    <tr>\n",
              "      <th>2</th>\n",
              "      <td>14978</td>\n",
              "    </tr>\n",
              "    <tr>\n",
              "      <th>4</th>\n",
              "      <td>14775</td>\n",
              "    </tr>\n",
              "  </tbody>\n",
              "</table>\n",
              "</div>"
            ],
            "text/plain": [
              "   Class\n",
              "3  16344\n",
              "1  16265\n",
              "5  15733\n",
              "2  14978\n",
              "4  14775"
            ]
          },
          "metadata": {
            "tags": []
          },
          "execution_count": 57
        }
      ]
    },
    {
      "metadata": {
        "id": "1Ii2IHP5EbCA",
        "colab_type": "code",
        "outputId": "b877fb57-dbf1-4442-9458-b1cb30d3da06",
        "colab": {}
      },
      "cell_type": "code",
      "source": [
        "# Bar plot to visualzie the distribution of class labels\n",
        "_ = plt.bar(x=values.index,height=values.Class)"
      ],
      "execution_count": 0,
      "outputs": [
        {
          "output_type": "display_data",
          "data": {
            "image/png": "[encoded data removed]",
            "text/plain": [
              "<Figure size 432x288 with 1 Axes>"
            ]
          },
          "metadata": {
            "tags": [],
            "needs_background": "light"
          }
        }
      ]
    },
    {
      "metadata": {
        "id": "2PP31rL4EbCG",
        "colab_type": "text"
      },
      "cell_type": "markdown",
      "source": [
        "---\n",
        "> Since, the class are equally distributed. We can use accuracy score as a metric to validate the performance."
      ]
    },
    {
      "metadata": {
        "colab_type": "code",
        "id": "A6bBC9yBfwdV",
        "outputId": "be478e07-7d0f-45d0-b0e2-e45f5c6ccce7",
        "colab": {
          "base_uri": "https://localhost:8080/",
          "height": 426
        }
      },
      "cell_type": "code",
      "source": [
        "# Exploring the values in dataset.\n",
        "postures.describe(include='all')"
      ],
      "execution_count": 0,
      "outputs": [
        {
          "output_type": "execute_result",
          "data": {
            "text/html": [
              "<div>\n",
              "<style scoped>\n",
              "    .dataframe tbody tr th:only-of-type {\n",
              "        vertical-align: middle;\n",
              "    }\n",
              "\n",
              "    .dataframe tbody tr th {\n",
              "        vertical-align: top;\n",
              "    }\n",
              "\n",
              "    .dataframe thead th {\n",
              "        text-align: right;\n",
              "    }\n",
              "</style>\n",
              "<table border=\"1\" class=\"dataframe\">\n",
              "  <thead>\n",
              "    <tr style=\"text-align: right;\">\n",
              "      <th></th>\n",
              "      <th>Class</th>\n",
              "      <th>User</th>\n",
              "      <th>X0</th>\n",
              "      <th>Y0</th>\n",
              "      <th>Z0</th>\n",
              "      <th>X1</th>\n",
              "      <th>Y1</th>\n",
              "      <th>Z1</th>\n",
              "      <th>X2</th>\n",
              "      <th>Y2</th>\n",
              "      <th>...</th>\n",
              "      <th>Z8</th>\n",
              "      <th>X9</th>\n",
              "      <th>Y9</th>\n",
              "      <th>Z9</th>\n",
              "      <th>X10</th>\n",
              "      <th>Y10</th>\n",
              "      <th>Z10</th>\n",
              "      <th>X11</th>\n",
              "      <th>Y11</th>\n",
              "      <th>Z11</th>\n",
              "    </tr>\n",
              "  </thead>\n",
              "  <tbody>\n",
              "    <tr>\n",
              "      <th>count</th>\n",
              "      <td>78096.000000</td>\n",
              "      <td>78096.000000</td>\n",
              "      <td>78096.000000</td>\n",
              "      <td>78096.000000</td>\n",
              "      <td>78096.000000</td>\n",
              "      <td>78096.000000</td>\n",
              "      <td>78096.000000</td>\n",
              "      <td>78096.000000</td>\n",
              "      <td>78096.000000</td>\n",
              "      <td>78096.000000</td>\n",
              "      <td>...</td>\n",
              "      <td>78096</td>\n",
              "      <td>78096</td>\n",
              "      <td>78096</td>\n",
              "      <td>78096</td>\n",
              "      <td>78096</td>\n",
              "      <td>78096</td>\n",
              "      <td>78096</td>\n",
              "      <td>78096</td>\n",
              "      <td>78096</td>\n",
              "      <td>78096</td>\n",
              "    </tr>\n",
              "    <tr>\n",
              "      <th>unique</th>\n",
              "      <td>NaN</td>\n",
              "      <td>NaN</td>\n",
              "      <td>NaN</td>\n",
              "      <td>NaN</td>\n",
              "      <td>NaN</td>\n",
              "      <td>NaN</td>\n",
              "      <td>NaN</td>\n",
              "      <td>NaN</td>\n",
              "      <td>NaN</td>\n",
              "      <td>NaN</td>\n",
              "      <td>...</td>\n",
              "      <td>30563</td>\n",
              "      <td>23969</td>\n",
              "      <td>23969</td>\n",
              "      <td>23969</td>\n",
              "      <td>14754</td>\n",
              "      <td>14754</td>\n",
              "      <td>14754</td>\n",
              "      <td>33</td>\n",
              "      <td>33</td>\n",
              "      <td>33</td>\n",
              "    </tr>\n",
              "    <tr>\n",
              "      <th>top</th>\n",
              "      <td>NaN</td>\n",
              "      <td>NaN</td>\n",
              "      <td>NaN</td>\n",
              "      <td>NaN</td>\n",
              "      <td>NaN</td>\n",
              "      <td>NaN</td>\n",
              "      <td>NaN</td>\n",
              "      <td>NaN</td>\n",
              "      <td>NaN</td>\n",
              "      <td>NaN</td>\n",
              "      <td>...</td>\n",
              "      <td>?</td>\n",
              "      <td>?</td>\n",
              "      <td>?</td>\n",
              "      <td>?</td>\n",
              "      <td>?</td>\n",
              "      <td>?</td>\n",
              "      <td>?</td>\n",
              "      <td>?</td>\n",
              "      <td>?</td>\n",
              "      <td>?</td>\n",
              "    </tr>\n",
              "    <tr>\n",
              "      <th>freq</th>\n",
              "      <td>NaN</td>\n",
              "      <td>NaN</td>\n",
              "      <td>NaN</td>\n",
              "      <td>NaN</td>\n",
              "      <td>NaN</td>\n",
              "      <td>NaN</td>\n",
              "      <td>NaN</td>\n",
              "      <td>NaN</td>\n",
              "      <td>NaN</td>\n",
              "      <td>NaN</td>\n",
              "      <td>...</td>\n",
              "      <td>47532</td>\n",
              "      <td>54128</td>\n",
              "      <td>54128</td>\n",
              "      <td>54128</td>\n",
              "      <td>63343</td>\n",
              "      <td>63343</td>\n",
              "      <td>63343</td>\n",
              "      <td>78064</td>\n",
              "      <td>78064</td>\n",
              "      <td>78064</td>\n",
              "    </tr>\n",
              "    <tr>\n",
              "      <th>mean</th>\n",
              "      <td>2.983738</td>\n",
              "      <td>7.959127</td>\n",
              "      <td>50.345664</td>\n",
              "      <td>85.812051</td>\n",
              "      <td>-29.984712</td>\n",
              "      <td>49.595209</td>\n",
              "      <td>86.192647</td>\n",
              "      <td>-29.509202</td>\n",
              "      <td>48.612121</td>\n",
              "      <td>83.771315</td>\n",
              "      <td>...</td>\n",
              "      <td>NaN</td>\n",
              "      <td>NaN</td>\n",
              "      <td>NaN</td>\n",
              "      <td>NaN</td>\n",
              "      <td>NaN</td>\n",
              "      <td>NaN</td>\n",
              "      <td>NaN</td>\n",
              "      <td>NaN</td>\n",
              "      <td>NaN</td>\n",
              "      <td>NaN</td>\n",
              "    </tr>\n",
              "    <tr>\n",
              "      <th>std</th>\n",
              "      <td>1.421183</td>\n",
              "      <td>4.697810</td>\n",
              "      <td>32.696173</td>\n",
              "      <td>40.204363</td>\n",
              "      <td>34.361918</td>\n",
              "      <td>32.478238</td>\n",
              "      <td>40.453214</td>\n",
              "      <td>34.764398</td>\n",
              "      <td>33.605390</td>\n",
              "      <td>41.023543</td>\n",
              "      <td>...</td>\n",
              "      <td>NaN</td>\n",
              "      <td>NaN</td>\n",
              "      <td>NaN</td>\n",
              "      <td>NaN</td>\n",
              "      <td>NaN</td>\n",
              "      <td>NaN</td>\n",
              "      <td>NaN</td>\n",
              "      <td>NaN</td>\n",
              "      <td>NaN</td>\n",
              "      <td>NaN</td>\n",
              "    </tr>\n",
              "    <tr>\n",
              "      <th>min</th>\n",
              "      <td>0.000000</td>\n",
              "      <td>0.000000</td>\n",
              "      <td>-108.552738</td>\n",
              "      <td>-98.233756</td>\n",
              "      <td>-126.770872</td>\n",
              "      <td>-111.685241</td>\n",
              "      <td>-96.142589</td>\n",
              "      <td>-166.006838</td>\n",
              "      <td>-106.886524</td>\n",
              "      <td>-100.789312</td>\n",
              "      <td>...</td>\n",
              "      <td>NaN</td>\n",
              "      <td>NaN</td>\n",
              "      <td>NaN</td>\n",
              "      <td>NaN</td>\n",
              "      <td>NaN</td>\n",
              "      <td>NaN</td>\n",
              "      <td>NaN</td>\n",
              "      <td>NaN</td>\n",
              "      <td>NaN</td>\n",
              "      <td>NaN</td>\n",
              "    </tr>\n",
              "    <tr>\n",
              "      <th>25%</th>\n",
              "      <td>2.000000</td>\n",
              "      <td>5.000000</td>\n",
              "      <td>29.295062</td>\n",
              "      <td>63.494432</td>\n",
              "      <td>-56.356438</td>\n",
              "      <td>28.755137</td>\n",
              "      <td>64.154529</td>\n",
              "      <td>-57.360107</td>\n",
              "      <td>25.170006</td>\n",
              "      <td>58.052385</td>\n",
              "      <td>...</td>\n",
              "      <td>NaN</td>\n",
              "      <td>NaN</td>\n",
              "      <td>NaN</td>\n",
              "      <td>NaN</td>\n",
              "      <td>NaN</td>\n",
              "      <td>NaN</td>\n",
              "      <td>NaN</td>\n",
              "      <td>NaN</td>\n",
              "      <td>NaN</td>\n",
              "      <td>NaN</td>\n",
              "    </tr>\n",
              "    <tr>\n",
              "      <th>50%</th>\n",
              "      <td>3.000000</td>\n",
              "      <td>9.000000</td>\n",
              "      <td>54.619964</td>\n",
              "      <td>86.526246</td>\n",
              "      <td>-30.864125</td>\n",
              "      <td>54.215514</td>\n",
              "      <td>87.542751</td>\n",
              "      <td>-30.184005</td>\n",
              "      <td>53.814580</td>\n",
              "      <td>86.458324</td>\n",
              "      <td>...</td>\n",
              "      <td>NaN</td>\n",
              "      <td>NaN</td>\n",
              "      <td>NaN</td>\n",
              "      <td>NaN</td>\n",
              "      <td>NaN</td>\n",
              "      <td>NaN</td>\n",
              "      <td>NaN</td>\n",
              "      <td>NaN</td>\n",
              "      <td>NaN</td>\n",
              "      <td>NaN</td>\n",
              "    </tr>\n",
              "    <tr>\n",
              "      <th>75%</th>\n",
              "      <td>4.000000</td>\n",
              "      <td>12.000000</td>\n",
              "      <td>72.488686</td>\n",
              "      <td>113.107355</td>\n",
              "      <td>-1.418803</td>\n",
              "      <td>71.762039</td>\n",
              "      <td>116.219398</td>\n",
              "      <td>-0.366692</td>\n",
              "      <td>71.561951</td>\n",
              "      <td>106.660827</td>\n",
              "      <td>...</td>\n",
              "      <td>NaN</td>\n",
              "      <td>NaN</td>\n",
              "      <td>NaN</td>\n",
              "      <td>NaN</td>\n",
              "      <td>NaN</td>\n",
              "      <td>NaN</td>\n",
              "      <td>NaN</td>\n",
              "      <td>NaN</td>\n",
              "      <td>NaN</td>\n",
              "      <td>NaN</td>\n",
              "    </tr>\n",
              "    <tr>\n",
              "      <th>max</th>\n",
              "      <td>5.000000</td>\n",
              "      <td>14.000000</td>\n",
              "      <td>190.017835</td>\n",
              "      <td>169.175464</td>\n",
              "      <td>113.345119</td>\n",
              "      <td>188.691997</td>\n",
              "      <td>170.209350</td>\n",
              "      <td>104.697852</td>\n",
              "      <td>188.760168</td>\n",
              "      <td>168.186466</td>\n",
              "      <td>...</td>\n",
              "      <td>NaN</td>\n",
              "      <td>NaN</td>\n",
              "      <td>NaN</td>\n",
              "      <td>NaN</td>\n",
              "      <td>NaN</td>\n",
              "      <td>NaN</td>\n",
              "      <td>NaN</td>\n",
              "      <td>NaN</td>\n",
              "      <td>NaN</td>\n",
              "      <td>NaN</td>\n",
              "    </tr>\n",
              "  </tbody>\n",
              "</table>\n",
              "<p>11 rows × 38 columns</p>\n",
              "</div>"
            ],
            "text/plain": [
              "               Class          User            X0            Y0            Z0  \\\n",
              "count   78096.000000  78096.000000  78096.000000  78096.000000  78096.000000   \n",
              "unique           NaN           NaN           NaN           NaN           NaN   \n",
              "top              NaN           NaN           NaN           NaN           NaN   \n",
              "freq             NaN           NaN           NaN           NaN           NaN   \n",
              "mean        2.983738      7.959127     50.345664     85.812051    -29.984712   \n",
              "std         1.421183      4.697810     32.696173     40.204363     34.361918   \n",
              "min         0.000000      0.000000   -108.552738    -98.233756   -126.770872   \n",
              "25%         2.000000      5.000000     29.295062     63.494432    -56.356438   \n",
              "50%         3.000000      9.000000     54.619964     86.526246    -30.864125   \n",
              "75%         4.000000     12.000000     72.488686    113.107355     -1.418803   \n",
              "max         5.000000     14.000000    190.017835    169.175464    113.345119   \n",
              "\n",
              "                  X1            Y1            Z1            X2            Y2  \\\n",
              "count   78096.000000  78096.000000  78096.000000  78096.000000  78096.000000   \n",
              "unique           NaN           NaN           NaN           NaN           NaN   \n",
              "top              NaN           NaN           NaN           NaN           NaN   \n",
              "freq             NaN           NaN           NaN           NaN           NaN   \n",
              "mean       49.595209     86.192647    -29.509202     48.612121     83.771315   \n",
              "std        32.478238     40.453214     34.764398     33.605390     41.023543   \n",
              "min      -111.685241    -96.142589   -166.006838   -106.886524   -100.789312   \n",
              "25%        28.755137     64.154529    -57.360107     25.170006     58.052385   \n",
              "50%        54.215514     87.542751    -30.184005     53.814580     86.458324   \n",
              "75%        71.762039    116.219398     -0.366692     71.561951    106.660827   \n",
              "max       188.691997    170.209350    104.697852    188.760168    168.186466   \n",
              "\n",
              "        ...       Z8     X9     Y9     Z9    X10    Y10    Z10    X11    Y11  \\\n",
              "count   ...    78096  78096  78096  78096  78096  78096  78096  78096  78096   \n",
              "unique  ...    30563  23969  23969  23969  14754  14754  14754     33     33   \n",
              "top     ...        ?      ?      ?      ?      ?      ?      ?      ?      ?   \n",
              "freq    ...    47532  54128  54128  54128  63343  63343  63343  78064  78064   \n",
              "mean    ...      NaN    NaN    NaN    NaN    NaN    NaN    NaN    NaN    NaN   \n",
              "std     ...      NaN    NaN    NaN    NaN    NaN    NaN    NaN    NaN    NaN   \n",
              "min     ...      NaN    NaN    NaN    NaN    NaN    NaN    NaN    NaN    NaN   \n",
              "25%     ...      NaN    NaN    NaN    NaN    NaN    NaN    NaN    NaN    NaN   \n",
              "50%     ...      NaN    NaN    NaN    NaN    NaN    NaN    NaN    NaN    NaN   \n",
              "75%     ...      NaN    NaN    NaN    NaN    NaN    NaN    NaN    NaN    NaN   \n",
              "max     ...      NaN    NaN    NaN    NaN    NaN    NaN    NaN    NaN    NaN   \n",
              "\n",
              "          Z11  \n",
              "count   78096  \n",
              "unique     33  \n",
              "top         ?  \n",
              "freq    78064  \n",
              "mean      NaN  \n",
              "std       NaN  \n",
              "min       NaN  \n",
              "25%       NaN  \n",
              "50%       NaN  \n",
              "75%       NaN  \n",
              "max       NaN  \n",
              "\n",
              "[11 rows x 38 columns]"
            ]
          },
          "metadata": {
            "tags": []
          },
          "execution_count": 6
        }
      ]
    },
    {
      "metadata": {
        "colab_type": "code",
        "id": "HLpDl8xAhE27",
        "colab": {}
      },
      "cell_type": "code",
      "source": [
        "# The method to print missing values in the dataset.\n",
        "def print_miss_values(postures,miss_val):\n",
        "    for col in postures.columns:\n",
        "        try:\n",
        "            print(col,postures[col].value_counts()[miss_val])\n",
        "        except Exception:\n",
        "            print(\"no missing values in: \"+col)"
      ],
      "execution_count": 0,
      "outputs": []
    },
    {
      "metadata": {
        "colab_type": "code",
        "id": "hl44icAouwwx",
        "outputId": "2bf036a4-f25f-47de-c54d-fbb224ff7482",
        "colab": {
          "base_uri": "https://localhost:8080/",
          "height": 692
        }
      },
      "cell_type": "code",
      "source": [
        "# find all total number of missing values('?') in all the columns.\n",
        "print_miss_values(postures,'?')"
      ],
      "execution_count": 0,
      "outputs": [
        {
          "output_type": "stream",
          "text": [
            "no missing values in: Class\n",
            "no missing values in: User\n",
            "no missing values in: X0\n",
            "no missing values in: Y0\n",
            "no missing values in: Z0\n",
            "no missing values in: X1\n",
            "no missing values in: Y1\n",
            "no missing values in: Z1\n",
            "no missing values in: X2\n",
            "no missing values in: Y2\n",
            "no missing values in: Z2\n",
            "X3 690\n",
            "Y3 690\n",
            "Z3 690\n",
            "X4 3120\n",
            "Y4 3120\n",
            "Z4 3120\n",
            "X5 13023\n",
            "Y5 13023\n",
            "Z5 13023\n",
            "X6 25848\n",
            "Y6 25848\n",
            "Z6 25848\n",
            "X7 39152\n",
            "Y7 39152\n",
            "Z7 39152\n",
            "X8 47532\n",
            "Y8 47532\n",
            "Z8 47532\n",
            "X9 54128\n",
            "Y9 54128\n",
            "Z9 54128\n",
            "X10 63343\n",
            "Y10 63343\n",
            "Z10 63343\n",
            "X11 78064\n",
            "Y11 78064\n",
            "Z11 78064\n"
          ],
          "name": "stdout"
        }
      ]
    },
    {
      "metadata": {
        "colab_type": "text",
        "id": "P0ygENIhXNhI"
      },
      "cell_type": "markdown",
      "source": [
        "# Preprocessing"
      ]
    },
    {
      "metadata": {
        "colab_type": "code",
        "id": "vMgXrnG0r5Cr",
        "outputId": "813e0347-069e-4260-9f75-f4a8f9afce2a",
        "colab": {
          "base_uri": "https://localhost:8080/",
          "height": 105
        }
      },
      "cell_type": "code",
      "source": [
        "# Since some columns have a large number of unknowns in columns(Xi,Yi,Zi) for i=(10,11)\n",
        "ref_data = postures.drop(columns=['X10','Y10','Z10','X11','Y11','Z11'])\n",
        "\n",
        "# Remove the user columns.\n",
        "ref_data = ref_data.drop(columns=['User'])\n",
        "\n",
        "# Verifying the columns available in the dataset after removing.\n",
        "print(ref_data.columns)\n",
        "\n",
        "# Total number of rows in the columns.\n",
        "ref_data.shape"
      ],
      "execution_count": 0,
      "outputs": [
        {
          "output_type": "stream",
          "text": [
            "Index(['Class', 'X0', 'Y0', 'Z0', 'X1', 'Y1', 'Z1', 'X2', 'Y2', 'Z2', 'X3',\n",
            "       'Y3', 'Z3', 'X4', 'Y4', 'Z4', 'X5', 'Y5', 'Z5', 'X6', 'Y6', 'Z6', 'X7',\n",
            "       'Y7', 'Z7', 'X8', 'Y8', 'Z8', 'X9', 'Y9', 'Z9'],\n",
            "      dtype='object')\n"
          ],
          "name": "stdout"
        },
        {
          "output_type": "execute_result",
          "data": {
            "text/plain": [
              "(78095, 31)"
            ]
          },
          "metadata": {
            "tags": []
          },
          "execution_count": 10
        }
      ]
    },
    {
      "metadata": {
        "colab_type": "code",
        "id": "2DTDiXv7XfM-",
        "outputId": "3575dca1-fa96-4b4c-f692-6ad9cd447f3b",
        "colab": {
          "base_uri": "https://localhost:8080/",
          "height": 87
        }
      },
      "cell_type": "code",
      "source": [
        "# Copying the label information to target_data.\n",
        "target_data = ref_data['Class']\n",
        "\n",
        "ref_data = ref_data.drop(columns=['Class'])\n",
        "print(ref_data.columns)"
      ],
      "execution_count": 0,
      "outputs": [
        {
          "output_type": "stream",
          "text": [
            "Index(['X0', 'Y0', 'Z0', 'X1', 'Y1', 'Z1', 'X2', 'Y2', 'Z2', 'X3', 'Y3', 'Z3',\n",
            "       'X4', 'Y4', 'Z4', 'X5', 'Y5', 'Z5', 'X6', 'Y6', 'Z6', 'X7', 'Y7', 'Z7',\n",
            "       'X8', 'Y8', 'Z8', 'X9', 'Y9', 'Z9'],\n",
            "      dtype='object')\n"
          ],
          "name": "stdout"
        }
      ]
    },
    {
      "metadata": {
        "id": "mikpeROEEbCq",
        "colab_type": "text"
      },
      "cell_type": "markdown",
      "source": [
        "### Replace all the '?' with Mean values"
      ]
    },
    {
      "metadata": {
        "colab_type": "code",
        "id": "1CyCN_Wst_Lg",
        "colab": {}
      },
      "cell_type": "code",
      "source": [
        "train_data = ref_data.replace('?', np.nan).astype('float')\n"
      ],
      "execution_count": 0,
      "outputs": []
    },
    {
      "metadata": {
        "colab_type": "code",
        "id": "wOaO7oh1ujpo",
        "outputId": "f0b77975-d26e-4493-eeb9-4265179b5904",
        "colab": {
          "base_uri": "https://localhost:8080/",
          "height": 550
        }
      },
      "cell_type": "code",
      "source": [
        "print_miss_values(train_data,np.NaN)"
      ],
      "execution_count": 0,
      "outputs": [
        {
          "output_type": "stream",
          "text": [
            "no missing values in: X0\n",
            "no missing values in: Y0\n",
            "no missing values in: Z0\n",
            "no missing values in: X1\n",
            "no missing values in: Y1\n",
            "no missing values in: Z1\n",
            "no missing values in: X2\n",
            "no missing values in: Y2\n",
            "no missing values in: Z2\n",
            "no missing values in: X3\n",
            "no missing values in: Y3\n",
            "no missing values in: Z3\n",
            "no missing values in: X4\n",
            "no missing values in: Y4\n",
            "no missing values in: Z4\n",
            "no missing values in: X5\n",
            "no missing values in: Y5\n",
            "no missing values in: Z5\n",
            "no missing values in: X6\n",
            "no missing values in: Y6\n",
            "no missing values in: Z6\n",
            "no missing values in: X7\n",
            "no missing values in: Y7\n",
            "no missing values in: Z7\n",
            "no missing values in: X8\n",
            "no missing values in: Y8\n",
            "no missing values in: Z8\n",
            "no missing values in: X9\n",
            "no missing values in: Y9\n",
            "no missing values in: Z9\n"
          ],
          "name": "stdout"
        }
      ]
    },
    {
      "metadata": {
        "colab_type": "code",
        "id": "3zpxwtkCu88Z",
        "colab": {}
      },
      "cell_type": "code",
      "source": [
        "# preprocessing the dataset by replacing the unknowns with their column mean values.\n",
        "train_data = train_data.fillna(train_data.mean())"
      ],
      "execution_count": 0,
      "outputs": []
    },
    {
      "metadata": {
        "colab_type": "code",
        "id": "DctX082kD1l8",
        "outputId": "9b9efb92-086d-441e-eb05-40c42581326a",
        "colab": {
          "base_uri": "https://localhost:8080/",
          "height": 532
        }
      },
      "cell_type": "code",
      "source": [
        "print(train_data.head())"
      ],
      "execution_count": 0,
      "outputs": [
        {
          "output_type": "stream",
          "text": [
            "          X0         Y0         Z0         X1         Y1         Z1  \\\n",
            "1  54.263880  71.466776 -64.807709  76.895635  42.462500 -72.780545   \n",
            "2  56.527558  72.266609 -61.935252  39.135978  82.538530 -49.596509   \n",
            "3  55.849928  72.469064 -62.562788  37.988804  82.631347 -50.606259   \n",
            "4  55.329647  71.707275 -63.688956  36.561863  81.868749 -52.752784   \n",
            "5  55.142401  71.435607 -64.177303  36.175818  81.556874 -53.475747   \n",
            "\n",
            "          X2         Y2         Z2         X3    ...             Z6  \\\n",
            "1  36.621229  81.680557 -52.919272  85.232264    ...     -26.639238   \n",
            "2  79.223743  43.254091 -69.982489  87.450873    ...     -26.639238   \n",
            "3  78.451526  43.567403 -70.658489  86.835388    ...     -26.639238   \n",
            "4  86.320630  68.214645 -72.228461  61.596157    ...     -26.639238   \n",
            "5  76.986143  42.426849 -72.574743  86.368748    ...     -26.639238   \n",
            "\n",
            "          X7         Y7         Z7         X8         Y8         Z8  \\\n",
            "1  44.463433  88.463343 -20.368719  48.209394  86.030582 -24.364841   \n",
            "2  44.463433  88.463343 -20.368719  48.209394  86.030582 -24.364841   \n",
            "3  44.463433  88.463343 -20.368719  48.209394  86.030582 -24.364841   \n",
            "4  44.463433  88.463343 -20.368719  48.209394  86.030582 -24.364841   \n",
            "5  44.463433  88.463343 -20.368719  48.209394  86.030582 -24.364841   \n",
            "\n",
            "          X9         Y9         Z9  \n",
            "1  54.749001  80.545795 -27.778042  \n",
            "2  54.749001  80.545795 -27.778042  \n",
            "3  54.749001  80.545795 -27.778042  \n",
            "4  54.749001  80.545795 -27.778042  \n",
            "5  54.749001  80.545795 -27.778042  \n",
            "\n",
            "[5 rows x 30 columns]\n"
          ],
          "name": "stdout"
        }
      ]
    },
    {
      "metadata": {
        "colab_type": "text",
        "id": "yUAVM0feOmKJ"
      },
      "cell_type": "markdown",
      "source": [
        "# Normalization\n",
        "\n"
      ]
    },
    {
      "metadata": {
        "colab_type": "code",
        "id": "BRQofPPeSSk-",
        "colab": {}
      },
      "cell_type": "code",
      "source": [
        "final_norm_df = normalize(train_data)\n",
        "final_norm_df = pd.DataFrame(final_norm_df,columns=train_data.columns)"
      ],
      "execution_count": 0,
      "outputs": []
    },
    {
      "metadata": {
        "colab_type": "code",
        "id": "5st3Ax07UmMJ",
        "outputId": "7fe2bef5-1a88-414e-b431-35efcc33f3df",
        "scrolled": true,
        "colab": {
          "base_uri": "https://localhost:8080/",
          "height": 246
        }
      },
      "cell_type": "code",
      "source": [
        "final_norm_df.head()"
      ],
      "execution_count": 0,
      "outputs": [
        {
          "output_type": "execute_result",
          "data": {
            "text/html": [
              "<div>\n",
              "<style scoped>\n",
              "    .dataframe tbody tr th:only-of-type {\n",
              "        vertical-align: middle;\n",
              "    }\n",
              "\n",
              "    .dataframe tbody tr th {\n",
              "        vertical-align: top;\n",
              "    }\n",
              "\n",
              "    .dataframe thead th {\n",
              "        text-align: right;\n",
              "    }\n",
              "</style>\n",
              "<table border=\"1\" class=\"dataframe\">\n",
              "  <thead>\n",
              "    <tr style=\"text-align: right;\">\n",
              "      <th></th>\n",
              "      <th>X0</th>\n",
              "      <th>Y0</th>\n",
              "      <th>Z0</th>\n",
              "      <th>X1</th>\n",
              "      <th>Y1</th>\n",
              "      <th>Z1</th>\n",
              "      <th>X2</th>\n",
              "      <th>Y2</th>\n",
              "      <th>Z2</th>\n",
              "      <th>X3</th>\n",
              "      <th>...</th>\n",
              "      <th>Z6</th>\n",
              "      <th>X7</th>\n",
              "      <th>Y7</th>\n",
              "      <th>Z7</th>\n",
              "      <th>X8</th>\n",
              "      <th>Y8</th>\n",
              "      <th>Z8</th>\n",
              "      <th>X9</th>\n",
              "      <th>Y9</th>\n",
              "      <th>Z9</th>\n",
              "    </tr>\n",
              "  </thead>\n",
              "  <tbody>\n",
              "    <tr>\n",
              "      <th>0</th>\n",
              "      <td>0.161843</td>\n",
              "      <td>0.213150</td>\n",
              "      <td>-0.193290</td>\n",
              "      <td>0.229342</td>\n",
              "      <td>0.126645</td>\n",
              "      <td>-0.217069</td>\n",
              "      <td>0.109223</td>\n",
              "      <td>0.243613</td>\n",
              "      <td>-0.157832</td>\n",
              "      <td>0.254206</td>\n",
              "      <td>...</td>\n",
              "      <td>-0.079452</td>\n",
              "      <td>0.132613</td>\n",
              "      <td>0.263843</td>\n",
              "      <td>-0.060750</td>\n",
              "      <td>0.143785</td>\n",
              "      <td>0.256587</td>\n",
              "      <td>-0.072668</td>\n",
              "      <td>0.163290</td>\n",
              "      <td>0.240229</td>\n",
              "      <td>-0.082848</td>\n",
              "    </tr>\n",
              "    <tr>\n",
              "      <th>1</th>\n",
              "      <td>0.168568</td>\n",
              "      <td>0.215503</td>\n",
              "      <td>-0.184695</td>\n",
              "      <td>0.116706</td>\n",
              "      <td>0.246135</td>\n",
              "      <td>-0.147900</td>\n",
              "      <td>0.236250</td>\n",
              "      <td>0.128986</td>\n",
              "      <td>-0.208692</td>\n",
              "      <td>0.260784</td>\n",
              "      <td>...</td>\n",
              "      <td>-0.079440</td>\n",
              "      <td>0.132593</td>\n",
              "      <td>0.263803</td>\n",
              "      <td>-0.060741</td>\n",
              "      <td>0.143763</td>\n",
              "      <td>0.256548</td>\n",
              "      <td>-0.072657</td>\n",
              "      <td>0.163265</td>\n",
              "      <td>0.240192</td>\n",
              "      <td>-0.082836</td>\n",
              "    </tr>\n",
              "    <tr>\n",
              "      <th>2</th>\n",
              "      <td>0.166470</td>\n",
              "      <td>0.216006</td>\n",
              "      <td>-0.186479</td>\n",
              "      <td>0.113232</td>\n",
              "      <td>0.246297</td>\n",
              "      <td>-0.150841</td>\n",
              "      <td>0.233838</td>\n",
              "      <td>0.129860</td>\n",
              "      <td>-0.210610</td>\n",
              "      <td>0.258828</td>\n",
              "      <td>...</td>\n",
              "      <td>-0.079403</td>\n",
              "      <td>0.132531</td>\n",
              "      <td>0.263680</td>\n",
              "      <td>-0.060712</td>\n",
              "      <td>0.143696</td>\n",
              "      <td>0.256429</td>\n",
              "      <td>-0.072624</td>\n",
              "      <td>0.163189</td>\n",
              "      <td>0.240080</td>\n",
              "      <td>-0.082797</td>\n",
              "    </tr>\n",
              "    <tr>\n",
              "      <th>3</th>\n",
              "      <td>0.165010</td>\n",
              "      <td>0.213853</td>\n",
              "      <td>-0.189940</td>\n",
              "      <td>0.109039</td>\n",
              "      <td>0.244157</td>\n",
              "      <td>-0.157325</td>\n",
              "      <td>0.257434</td>\n",
              "      <td>0.203437</td>\n",
              "      <td>-0.215407</td>\n",
              "      <td>0.183698</td>\n",
              "      <td>...</td>\n",
              "      <td>-0.079446</td>\n",
              "      <td>0.132603</td>\n",
              "      <td>0.263825</td>\n",
              "      <td>-0.060746</td>\n",
              "      <td>0.143775</td>\n",
              "      <td>0.256569</td>\n",
              "      <td>-0.072663</td>\n",
              "      <td>0.163278</td>\n",
              "      <td>0.240212</td>\n",
              "      <td>-0.082843</td>\n",
              "    </tr>\n",
              "    <tr>\n",
              "      <th>4</th>\n",
              "      <td>0.164460</td>\n",
              "      <td>0.213054</td>\n",
              "      <td>-0.191406</td>\n",
              "      <td>0.107893</td>\n",
              "      <td>0.243240</td>\n",
              "      <td>-0.159489</td>\n",
              "      <td>0.229608</td>\n",
              "      <td>0.126536</td>\n",
              "      <td>-0.216451</td>\n",
              "      <td>0.257592</td>\n",
              "      <td>...</td>\n",
              "      <td>-0.079451</td>\n",
              "      <td>0.132611</td>\n",
              "      <td>0.263839</td>\n",
              "      <td>-0.060749</td>\n",
              "      <td>0.143783</td>\n",
              "      <td>0.256583</td>\n",
              "      <td>-0.072667</td>\n",
              "      <td>0.163287</td>\n",
              "      <td>0.240225</td>\n",
              "      <td>-0.082847</td>\n",
              "    </tr>\n",
              "  </tbody>\n",
              "</table>\n",
              "<p>5 rows × 30 columns</p>\n",
              "</div>"
            ],
            "text/plain": [
              "         X0        Y0        Z0        X1        Y1        Z1        X2  \\\n",
              "0  0.161843  0.213150 -0.193290  0.229342  0.126645 -0.217069  0.109223   \n",
              "1  0.168568  0.215503 -0.184695  0.116706  0.246135 -0.147900  0.236250   \n",
              "2  0.166470  0.216006 -0.186479  0.113232  0.246297 -0.150841  0.233838   \n",
              "3  0.165010  0.213853 -0.189940  0.109039  0.244157 -0.157325  0.257434   \n",
              "4  0.164460  0.213054 -0.191406  0.107893  0.243240 -0.159489  0.229608   \n",
              "\n",
              "         Y2        Z2        X3    ...           Z6        X7        Y7  \\\n",
              "0  0.243613 -0.157832  0.254206    ...    -0.079452  0.132613  0.263843   \n",
              "1  0.128986 -0.208692  0.260784    ...    -0.079440  0.132593  0.263803   \n",
              "2  0.129860 -0.210610  0.258828    ...    -0.079403  0.132531  0.263680   \n",
              "3  0.203437 -0.215407  0.183698    ...    -0.079446  0.132603  0.263825   \n",
              "4  0.126536 -0.216451  0.257592    ...    -0.079451  0.132611  0.263839   \n",
              "\n",
              "         Z7        X8        Y8        Z8        X9        Y9        Z9  \n",
              "0 -0.060750  0.143785  0.256587 -0.072668  0.163290  0.240229 -0.082848  \n",
              "1 -0.060741  0.143763  0.256548 -0.072657  0.163265  0.240192 -0.082836  \n",
              "2 -0.060712  0.143696  0.256429 -0.072624  0.163189  0.240080 -0.082797  \n",
              "3 -0.060746  0.143775  0.256569 -0.072663  0.163278  0.240212 -0.082843  \n",
              "4 -0.060749  0.143783  0.256583 -0.072667  0.163287  0.240225 -0.082847  \n",
              "\n",
              "[5 rows x 30 columns]"
            ]
          },
          "metadata": {
            "tags": []
          },
          "execution_count": 17
        }
      ]
    },
    {
      "metadata": {
        "colab_type": "text",
        "id": "shYnYQ3LVgaW"
      },
      "cell_type": "markdown",
      "source": [
        "# Splitting into training and testing data"
      ]
    },
    {
      "metadata": {
        "colab_type": "code",
        "id": "Mj8_WNmnVkr3",
        "colab": {}
      },
      "cell_type": "code",
      "source": [
        "x_train, x_test, y_train, y_test = train_test_split(final_norm_df, target_data,test_size=0.25, random_state=3)"
      ],
      "execution_count": 0,
      "outputs": []
    },
    {
      "metadata": {
        "colab_type": "code",
        "id": "bOdsntH4zZVf",
        "outputId": "f4132aa9-2018-467b-88c7-c341f17bdd20",
        "colab": {
          "base_uri": "https://localhost:8080/",
          "height": 638
        }
      },
      "cell_type": "code",
      "source": [
        "print(x_train.head(5))\n",
        "print(y_train.head(5))"
      ],
      "execution_count": 0,
      "outputs": [
        {
          "output_type": "stream",
          "text": [
            "             X0        Y0        Z0        X1        Y1        Z1        X2  \\\n",
            "40875  0.200630  0.188236 -0.256507  0.038873  0.229532 -0.146198  0.173542   \n",
            "46317  0.126327  0.388794 -0.083078  0.228511  0.014604 -0.218471  0.160655   \n",
            "76214  0.141218  0.387725  0.104147  0.119946  0.272104  0.059725  0.179509   \n",
            "44061  0.207178  0.224358 -0.066394  0.233041  0.348455 -0.059261  0.236026   \n",
            "4250   0.169947  0.255092 -0.104684  0.151852  0.379425 -0.131490  0.186945   \n",
            "\n",
            "             Y2        Z2        X3    ...           Z6        X7        Y7  \\\n",
            "40875 -0.007015 -0.252682  0.107223    ...    -0.226793  0.136566  0.271708   \n",
            "46317 -0.023698 -0.208997  0.170776    ...    -0.070411  0.116437  0.231660   \n",
            "76214  0.356002  0.072532  0.009814    ...    -0.094709  0.226195  0.126727   \n",
            "44061  0.024178 -0.234295  0.287889    ...    -0.215458  0.055288  0.271418   \n",
            "4250   0.212666 -0.224336  0.184604    ...    -0.075436  0.125910  0.250507   \n",
            "\n",
            "             Z7        X8        Y8        Z8        X9        Y9        Z9  \n",
            "40875 -0.062561  0.148071  0.264236 -0.074835  0.168157  0.247390 -0.085318  \n",
            "46317 -0.053340  0.126246  0.225289 -0.063804  0.143372  0.210926 -0.072743  \n",
            "76214 -0.121122  0.188980  0.084832 -0.138805  0.146763  0.215916 -0.074463  \n",
            "44061 -0.067743  0.130071  0.232115 -0.065738  0.147716  0.217317 -0.074947  \n",
            "4250  -0.057679  0.136518  0.243618 -0.068996  0.155036  0.228087 -0.078661  \n",
            "\n",
            "[5 rows x 30 columns]\n",
            "40876    1\n",
            "46318    4\n",
            "76215    4\n",
            "44062    3\n",
            "4251     3\n",
            "Name: Class, dtype: int64\n"
          ],
          "name": "stdout"
        }
      ]
    },
    {
      "metadata": {
        "colab_type": "text",
        "id": "cVrcJTrSE8_S"
      },
      "cell_type": "markdown",
      "source": [
        "## Bench Mark Model( Logistic Regression )"
      ]
    },
    {
      "metadata": {
        "id": "ECcYlZgDEbDe",
        "colab_type": "code",
        "colab": {}
      },
      "cell_type": "code",
      "source": [
        "from sklearn.metrics import accuracy_score"
      ],
      "execution_count": 0,
      "outputs": []
    },
    {
      "metadata": {
        "id": "iRqwyfsbEbDk",
        "colab_type": "code",
        "colab": {}
      },
      "cell_type": "code",
      "source": [
        "acc_values = []"
      ],
      "execution_count": 0,
      "outputs": []
    },
    {
      "metadata": {
        "colab_type": "code",
        "id": "whZ7IWs7E8cQ",
        "outputId": "c78d3f01-4d5c-4e9f-f0ae-70715642b9a2",
        "colab": {
          "base_uri": "https://localhost:8080/",
          "height": 143
        }
      },
      "cell_type": "code",
      "source": [
        "from sklearn.linear_model import LogisticRegression\n",
        "\n",
        "\n",
        "log_r = LogisticRegression()\n",
        "log_r.fit(x_train, y_train)\n",
        "\n",
        "train_pred1 = log_r.predict(x_train)\n",
        "test_pred1 = log_r.predict(x_test)\n",
        "\n",
        "print(accuracy_score(train_pred1,y_train))\n",
        "print(accuracy_score(test_pred1,y_test))"
      ],
      "execution_count": 0,
      "outputs": [
        {
          "output_type": "stream",
          "text": [
            "C:\\Users\\mutya\\Anaconda3\\lib\\site-packages\\sklearn\\linear_model\\logistic.py:433: FutureWarning: Default solver will be changed to 'lbfgs' in 0.22. Specify a solver to silence this warning.\n",
            "  FutureWarning)\n",
            "C:\\Users\\mutya\\Anaconda3\\lib\\site-packages\\sklearn\\linear_model\\logistic.py:460: FutureWarning: Default multi_class will be changed to 'auto' in 0.22. Specify the multi_class option to silence this warning.\n",
            "  \"this warning.\", FutureWarning)\n"
          ],
          "name": "stderr"
        },
        {
          "output_type": "stream",
          "text": [
            "0.7311468132693654\n",
            "0.734839172300758\n"
          ],
          "name": "stdout"
        }
      ]
    },
    {
      "metadata": {
        "id": "tadGajgkEbDx",
        "colab_type": "code",
        "colab": {}
      },
      "cell_type": "code",
      "source": [
        "acc_values.append(accuracy_score(test_pred1,y_test))"
      ],
      "execution_count": 0,
      "outputs": []
    },
    {
      "metadata": {
        "id": "phI0rtPsEbD3",
        "colab_type": "text"
      },
      "cell_type": "markdown",
      "source": [
        "**Accuracy obtained with benchmark model is 73.3%, this result can be used to compare other models.**"
      ]
    },
    {
      "metadata": {
        "colab_type": "text",
        "id": "kF3fNbs_FBkg"
      },
      "cell_type": "markdown",
      "source": [
        "## Implementations"
      ]
    },
    {
      "metadata": {
        "id": "bmhZ8_6JEbD8",
        "colab_type": "text"
      },
      "cell_type": "markdown",
      "source": [
        "We can try using different supervised algorithms and compare them with above benchmark model.\n",
        "#### 1. We will use KNeighborsClassifier"
      ]
    },
    {
      "metadata": {
        "colab_type": "code",
        "id": "XHZgWAQBZtEr",
        "colab": {}
      },
      "cell_type": "code",
      "source": [
        "from sklearn.neighbors import KNeighborsClassifier"
      ],
      "execution_count": 0,
      "outputs": []
    },
    {
      "metadata": {
        "colab_type": "code",
        "id": "H_Ia3_rbbvLC",
        "outputId": "3c426ae3-cee2-45d0-8896-e9e8e7c5fe4d",
        "colab": {
          "base_uri": "https://localhost:8080/",
          "height": 52
        }
      },
      "cell_type": "code",
      "source": [
        "\n",
        "model1 = KNeighborsClassifier(5)\n",
        "# help(KNeighborsClassifier)\n",
        "model1 = model1.fit(x_train,y_train)\n",
        "train_pred1 = model1.predict(x_train)\n",
        "test_pred1 = model1.predict(x_test)\n",
        "print(accuracy_score(train_pred1,y_train))\n",
        "print(accuracy_score(test_pred1,y_test))"
      ],
      "execution_count": 0,
      "outputs": [
        {
          "output_type": "stream",
          "text": [
            "0.9441020300148538\n",
            "0.9167178856791641\n"
          ],
          "name": "stdout"
        }
      ]
    },
    {
      "metadata": {
        "id": "tt-c9AYIEbEJ",
        "colab_type": "code",
        "colab": {}
      },
      "cell_type": "code",
      "source": [
        "acc_values.append(accuracy_score(test_pred1,y_test))"
      ],
      "execution_count": 0,
      "outputs": []
    },
    {
      "metadata": {
        "id": "nRUwkV-GEbEO",
        "colab_type": "text"
      },
      "cell_type": "markdown",
      "source": [
        "---\n",
        "**Accuracy obtained by KNeighborsClassifier : 91.6%, which is higher than the benchmark model.**"
      ]
    },
    {
      "metadata": {
        "id": "QTfWIC4PEbEQ",
        "colab_type": "text"
      },
      "cell_type": "markdown",
      "source": [
        "A similar variation of KNeighbors with a small variation in k."
      ]
    },
    {
      "metadata": {
        "colab_type": "code",
        "id": "YVUWqFCUZlg8",
        "outputId": "f2293834-074f-4f0c-ab2e-e5f323fd31fc",
        "colab": {
          "base_uri": "https://localhost:8080/",
          "height": 52
        }
      },
      "cell_type": "code",
      "source": [
        "# Applying KNeighbors Classifier.\n",
        "model1 = KNeighborsClassifier(12)\n",
        "model1 = model1.fit(x_train,y_train)\n",
        "train_pred1 = model1.predict(x_train)\n",
        "test_pred1 = model1.predict(x_test)\n",
        "print(accuracy_score(train_pred1,y_train))\n",
        "print(accuracy_score(test_pred1,y_test))"
      ],
      "execution_count": 0,
      "outputs": [
        {
          "output_type": "stream",
          "text": [
            "0.9092383602806849\n",
            "0.892440073755378\n"
          ],
          "name": "stdout"
        }
      ]
    },
    {
      "metadata": {
        "id": "j9AnC4GLEbEb",
        "colab_type": "text"
      },
      "cell_type": "markdown",
      "source": [
        "#### 2. DecisionTreeClassifier"
      ]
    },
    {
      "metadata": {
        "colab_type": "code",
        "id": "N3cqg1ktinaf",
        "outputId": "9988b443-c13f-48d3-a75d-c87aa0160d5e",
        "colab": {
          "base_uri": "https://localhost:8080/",
          "height": 52
        }
      },
      "cell_type": "code",
      "source": [
        "from sklearn.tree import DecisionTreeClassifier\n",
        "model2 = DecisionTreeClassifier()\n",
        "model2.fit(x_train,y_train)\n",
        "train_pred2 = model2.predict(x_train)\n",
        "test_pred2 = model2.predict(x_test)\n",
        "print(accuracy_score(train_pred2,y_train))\n",
        "print(accuracy_score(test_pred2,y_test))"
      ],
      "execution_count": 0,
      "outputs": [
        {
          "output_type": "stream",
          "text": [
            "1.0\n",
            "0.9636857201393157\n"
          ],
          "name": "stdout"
        }
      ]
    },
    {
      "metadata": {
        "id": "qpa-NDf2EbEo",
        "colab_type": "code",
        "colab": {}
      },
      "cell_type": "code",
      "source": [
        "acc_values.append(accuracy_score(test_pred2,y_test))"
      ],
      "execution_count": 0,
      "outputs": []
    },
    {
      "metadata": {
        "id": "Q0mNh0m9EbEs",
        "colab_type": "text"
      },
      "cell_type": "markdown",
      "source": [
        "**The accuracy obtained is 94.86%. Which is better than KNeighborsClassifier. So Decision tree classifier is better than both benchmark model and KNeighborsClassifier.**"
      ]
    },
    {
      "metadata": {
        "id": "ao8445YIEbEu",
        "colab_type": "code",
        "colab": {}
      },
      "cell_type": "code",
      "source": [
        "# TODO: Import a supervised learning model that has 'feature_importances_'\n",
        "from sklearn.ensemble import AdaBoostClassifier,RandomForestClassifier\n"
      ],
      "execution_count": 0,
      "outputs": []
    },
    {
      "metadata": {
        "colab_type": "code",
        "id": "zgEZVXbpkEdg",
        "outputId": "2b18dcf6-9293-41df-b402-511fd537befc",
        "colab": {
          "base_uri": "https://localhost:8080/",
          "height": 52
        }
      },
      "cell_type": "code",
      "source": [
        "\n",
        "# TODO: Train the supervised model on the training set using .fit(X_train, y_train)\n",
        "model3 = AdaBoostClassifier()\n",
        "# model2 = RandomForestClassifier()\n",
        "\n",
        "model3.fit(x_train, y_train)\n",
        "# model2.fit(X_train, y_train)\n",
        "train_pred3 = model3.predict(x_train)\n",
        "test_pred3 = model3.predict(x_test)\n",
        "\n",
        "print(accuracy_score(train_pred3,y_train))\n",
        "print(accuracy_score(test_pred3,y_test))\n"
      ],
      "execution_count": 0,
      "outputs": [
        {
          "output_type": "stream",
          "text": [
            "0.7236687097710471\n",
            "0.7261831591886908\n"
          ],
          "name": "stdout"
        }
      ]
    },
    {
      "metadata": {
        "id": "4Zu2csnuEbFB",
        "colab_type": "code",
        "colab": {}
      },
      "cell_type": "code",
      "source": [
        "acc_values.append(accuracy_score(test_pred3,y_test))"
      ],
      "execution_count": 0,
      "outputs": []
    },
    {
      "metadata": {
        "id": "pyf6qSQeEbFF",
        "colab_type": "text"
      },
      "cell_type": "markdown",
      "source": [
        "#### 3. We will apply RandomForestClassifier "
      ]
    },
    {
      "metadata": {
        "colab_type": "code",
        "id": "ECz-sW1Ukz_6",
        "outputId": "3e6296fa-3b6b-46f8-e038-d1e12483cd59",
        "colab": {
          "base_uri": "https://localhost:8080/",
          "height": 107
        }
      },
      "cell_type": "code",
      "source": [
        "model4 = RandomForestClassifier()\n",
        "# model2 = RandomForestClassifier()\n",
        "\n",
        "model4.fit(x_train, y_train)\n",
        "\n",
        "train_pred4 = model4.predict(x_train)\n",
        "test_pred4 = model4.predict(x_test)\n",
        "\n",
        "print(accuracy_score(train_pred4,y_train))\n",
        "print(accuracy_score(test_pred4,y_test))"
      ],
      "execution_count": 0,
      "outputs": [
        {
          "output_type": "stream",
          "text": [
            "C:\\Users\\mutya\\Anaconda3\\lib\\site-packages\\sklearn\\ensemble\\forest.py:246: FutureWarning: The default value of n_estimators will change from 10 in version 0.20 to 100 in 0.22.\n",
            "  \"10 in version 0.20 to 100 in 0.22.\", FutureWarning)\n"
          ],
          "name": "stderr"
        },
        {
          "output_type": "stream",
          "text": [
            "0.9993682880606444\n",
            "0.9812538414259373\n"
          ],
          "name": "stdout"
        }
      ]
    },
    {
      "metadata": {
        "id": "ZeEMO8sKEbFM",
        "colab_type": "code",
        "colab": {}
      },
      "cell_type": "code",
      "source": [
        "acc_values.append(accuracy_score(test_pred4,y_test))"
      ],
      "execution_count": 0,
      "outputs": []
    },
    {
      "metadata": {
        "id": "DqlMo1q5EbFR",
        "colab_type": "text"
      },
      "cell_type": "markdown",
      "source": [
        "**This is the highest accuracy obtained i.e, 98.12%. So we will try to optimize it further by applying gridsearch on random forest classifier**"
      ]
    },
    {
      "metadata": {
        "id": "7KMAwZl8EbFS",
        "colab_type": "text"
      },
      "cell_type": "markdown",
      "source": [
        "## We will apply GridSearch on RandomForestClassifier"
      ]
    },
    {
      "metadata": {
        "id": "j1NghZlgEbFT",
        "colab_type": "code",
        "colab": {}
      },
      "cell_type": "code",
      "source": [
        "from sklearn.model_selection import GridSearchCV\n",
        "from sklearn.metrics import make_scorer"
      ],
      "execution_count": 0,
      "outputs": []
    },
    {
      "metadata": {
        "scrolled": true,
        "id": "8_9lwILaEbFa",
        "colab_type": "code",
        "colab": {}
      },
      "cell_type": "code",
      "source": [
        "def fit_model(X,y):\n",
        "    \"\"\"\n",
        "       We will perform grid search on random forest .\n",
        "    \"\"\"\n",
        "#     cv_sets = ShuffleSplit(n_splits = 10, test_size = 0.20, random_state = 0)\n",
        "    regressor = RandomForestClassifier()\n",
        "    params = {\n",
        "    'n_estimators': [200, 700],\n",
        "    'max_features': ['auto', 'sqrt', 'log2']\n",
        "    }\n",
        "    scoring_func = make_scorer(accuracy_score)  \n",
        "    grid = GridSearchCV(estimator=regressor, param_grid=params, scoring=scoring_func, cv=5)\n",
        "    \n",
        "    # Fit the grid search object to the data to compute the optimal model\n",
        "    grid = grid.fit(X, y)\n",
        "    \n",
        "    return grid.best_estimator_\n"
      ],
      "execution_count": 0,
      "outputs": []
    },
    {
      "metadata": {
        "id": "eBOr1jvLEbFd",
        "colab_type": "code",
        "colab": {}
      },
      "cell_type": "code",
      "source": [
        "optimal_model = fit_model(x_train, y_train)"
      ],
      "execution_count": 0,
      "outputs": []
    },
    {
      "metadata": {
        "id": "HiyLqGU5EbFm",
        "colab_type": "code",
        "outputId": "3c4d1685-d15c-4188-b618-867ac8fd7130",
        "colab": {}
      },
      "cell_type": "code",
      "source": [
        "print(optimal_model.get_params())"
      ],
      "execution_count": 0,
      "outputs": [
        {
          "output_type": "stream",
          "text": [
            "{'bootstrap': True, 'class_weight': None, 'criterion': 'gini', 'max_depth': None, 'max_features': 'sqrt', 'max_leaf_nodes': None, 'min_impurity_decrease': 0.0, 'min_impurity_split': None, 'min_samples_leaf': 1, 'min_samples_split': 2, 'min_weight_fraction_leaf': 0.0, 'n_estimators': 700, 'n_jobs': None, 'oob_score': False, 'random_state': None, 'verbose': 0, 'warm_start': False}\n"
          ],
          "name": "stdout"
        }
      ]
    },
    {
      "metadata": {
        "id": "KCbT1axuEbFu",
        "colab_type": "code",
        "outputId": "acb2f5ef-f513-4288-e2b8-592b58d81e27",
        "colab": {}
      },
      "cell_type": "code",
      "source": [
        "train_pred_opt = optimal_model.predict(x_train)\n",
        "test_pred_opt = optimal_model.predict(x_test)\n",
        "\n",
        "print(accuracy_score(train_pred_opt,y_train))\n",
        "print(accuracy_score(test_pred_opt,y_test))"
      ],
      "execution_count": 0,
      "outputs": [
        {
          "output_type": "stream",
          "text": [
            "1.0\n",
            "0.9865806187256709\n"
          ],
          "name": "stdout"
        }
      ]
    },
    {
      "metadata": {
        "id": "ok4bb20iEbF0",
        "colab_type": "code",
        "colab": {}
      },
      "cell_type": "code",
      "source": [
        "acc_values.append(accuracy_score(test_pred_opt,y_test))"
      ],
      "execution_count": 0,
      "outputs": []
    },
    {
      "metadata": {
        "id": "iVq4A4J5EbF4",
        "colab_type": "text"
      },
      "cell_type": "markdown",
      "source": [
        "## Conclusion:"
      ]
    },
    {
      "metadata": {
        "id": "jOudIVu3EbF6",
        "colab_type": "text"
      },
      "cell_type": "markdown",
      "source": [
        "**After applying the gridSearchCv on random forests on `n_estimators` and `max_features`. We obtained an accuracy value of 98.69% which is higher than benchmark model and unoptimized approach(98.12%).**"
      ]
    },
    {
      "metadata": {
        "id": "2MYtLUpHEbF8",
        "colab_type": "text"
      },
      "cell_type": "markdown",
      "source": [
        "# Visualizing the results"
      ]
    },
    {
      "metadata": {
        "id": "uqANclFoEbF-",
        "colab_type": "code",
        "outputId": "1a0c1045-27da-443c-f69b-9678e6c27e94",
        "colab": {}
      },
      "cell_type": "code",
      "source": [
        "acc_values # Accuracy scores of all the models used are stored in a list"
      ],
      "execution_count": 0,
      "outputs": [
        {
          "output_type": "execute_result",
          "data": {
            "text/plain": [
              "[0.734839172300758,\n",
              " 0.9167178856791641,\n",
              " 0.9636857201393157,\n",
              " 0.7261831591886908,\n",
              " 0.9812538414259373,\n",
              " 0.9865806187256709]"
            ]
          },
          "metadata": {
            "tags": []
          },
          "execution_count": 91
        }
      ]
    },
    {
      "metadata": {
        "id": "H3lF5kJkEbGF",
        "colab_type": "code",
        "colab": {}
      },
      "cell_type": "code",
      "source": [
        "# A function to plot the barchart of accuracy values.\n",
        "def gen_plt(title,ticks, dataset, color_name):\n",
        "    plt.figure(figsize=(10,6))\n",
        "    ax = plt.subplot()\n",
        "    plt.xticks(np.arange(len(ticks)), ticks, rotation=30) \n",
        "    plt.title(title)\n",
        "    plt.bar(ticks,dataset,color=color_name)"
      ],
      "execution_count": 0,
      "outputs": []
    },
    {
      "metadata": {
        "scrolled": false,
        "id": "OvixLjL3EbGL",
        "colab_type": "code",
        "outputId": "e75fc934-55c4-4e71-b7ca-db7deeac2e62",
        "colab": {}
      },
      "cell_type": "code",
      "source": [
        "ticks = ['Logistic Regression', 'KNeighborsClassifier', 'DecisionTreeClassifier', 'AdaBoostClassifier', 'RandomForestClassifier', 'RandomForest optimized']\n",
        "gen_plt(\"Accuracy score values\",ticks,acc_values,'slateblue')"
      ],
      "execution_count": 0,
      "outputs": [
        {
          "output_type": "display_data",
          "data": {
            "image/png": "[encoded data removed]",
            "text/plain": [
              "<Figure size 720x432 with 1 Axes>"
            ]
          },
          "metadata": {
            "tags": [],
            "needs_background": "light"
          }
        }
      ]
    }
  ]
}